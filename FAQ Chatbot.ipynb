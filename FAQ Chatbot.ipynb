{
 "cells": [
  {
   "cell_type": "code",
   "execution_count": 3,
   "id": "2d1f0755-05a2-4337-8581-578147c3d4ae",
   "metadata": {},
   "outputs": [
    {
     "name": "stdout",
     "output_type": "stream",
     "text": [
      "Requirement already satisfied: nltk in c:\\users\\racha\\anaconda3\\lib\\site-packages (3.9.1)\n",
      "Requirement already satisfied: scikit-learn in c:\\users\\racha\\anaconda3\\lib\\site-packages (1.6.1)\n",
      "Requirement already satisfied: click in c:\\users\\racha\\anaconda3\\lib\\site-packages (from nltk) (8.1.8)\n",
      "Requirement already satisfied: joblib in c:\\users\\racha\\anaconda3\\lib\\site-packages (from nltk) (1.4.2)\n",
      "Requirement already satisfied: regex>=2021.8.3 in c:\\users\\racha\\anaconda3\\lib\\site-packages (from nltk) (2024.11.6)\n",
      "Requirement already satisfied: tqdm in c:\\users\\racha\\anaconda3\\lib\\site-packages (from nltk) (4.67.1)\n",
      "Requirement already satisfied: numpy>=1.19.5 in c:\\users\\racha\\anaconda3\\lib\\site-packages (from scikit-learn) (2.1.3)\n",
      "Requirement already satisfied: scipy>=1.6.0 in c:\\users\\racha\\anaconda3\\lib\\site-packages (from scikit-learn) (1.15.3)\n",
      "Requirement already satisfied: threadpoolctl>=3.1.0 in c:\\users\\racha\\anaconda3\\lib\\site-packages (from scikit-learn) (3.5.0)\n",
      "Requirement already satisfied: colorama in c:\\users\\racha\\anaconda3\\lib\\site-packages (from click->nltk) (0.4.6)\n"
     ]
    }
   ],
   "source": [
    "!pip install nltk scikit-learn\n"
   ]
  },
  {
   "cell_type": "code",
   "execution_count": 13,
   "id": "eddf1edc-24c7-49f3-9f3a-54584c53d7f2",
   "metadata": {},
   "outputs": [],
   "source": [
    "faq_data = {\n",
    "    \"what is your name\": \"I am an FAQ Chatbot created for this project!\",\n",
    "    \"how are you\": \"I'm doing great, thanks for asking!\",\n",
    "    \"what is python\": \"Python is a popular programming language used for AI, ML, and web development.\",\n",
    "    \"who created you\": \"I was created by an intern for a project demonstration.\",\n",
    "    \"bye\": \"Goodbye! Have a great day!\"\n",
    "}\n"
   ]
  },
  {
   "cell_type": "code",
   "execution_count": 14,
   "id": "3745ab3b-ab4f-4af1-99be-fffc8865d414",
   "metadata": {},
   "outputs": [
    {
     "name": "stderr",
     "output_type": "stream",
     "text": [
      "[nltk_data] Downloading package punkt to\n",
      "[nltk_data]     C:\\Users\\racha\\AppData\\Roaming\\nltk_data...\n",
      "[nltk_data]   Package punkt is already up-to-date!\n"
     ]
    },
    {
     "name": "stdout",
     "output_type": "stream",
     "text": [
      "🤖 FAQ Chatbot is ready! (type 'bye' to exit)\n"
     ]
    },
    {
     "name": "stdin",
     "output_type": "stream",
     "text": [
      "You:  bye\n"
     ]
    },
    {
     "name": "stdout",
     "output_type": "stream",
     "text": [
      "Bot: Goodbye! Have a great day!\n"
     ]
    }
   ],
   "source": [
    "import nltk\n",
    "from sklearn.feature_extraction.text import TfidfVectorizer\n",
    "from sklearn.metrics.pairwise import cosine_similarity\n",
    "\n",
    "# Download NLTK data (run only once)\n",
    "nltk.download('punkt')\n",
    "\n",
    "# --- FAQ Dataset ---\n",
    "faq_data = {\n",
    "    \"what is your name\": \"I am an FAQ Chatbot created for this project!\",\n",
    "    \"how are you\": \"I'm doing great, thanks for asking!\",\n",
    "    \"what is python\": \"Python is a popular programming language used for AI, ML, and web development.\",\n",
    "    \"who created you\": \"I was created by an intern for a project demonstration.\",\n",
    "    \"bye\": \"Goodbye! Have a great day!\"\n",
    "}\n",
    "\n",
    "# --- Prepare Data ---\n",
    "questions = list(faq_data.keys())\n",
    "answers = list(faq_data.values())\n",
    "\n",
    "vectorizer = TfidfVectorizer()\n",
    "question_vectors = vectorizer.fit_transform(questions)\n",
    "\n",
    "def chatbot_response(user_input):\n",
    "    user_vec = vectorizer.transform([user_input])\n",
    "    similarity = cosine_similarity(user_vec, question_vectors)\n",
    "    idx = similarity.argmax()\n",
    "    if similarity[0][idx] > 0.3:  # Threshold to ensure relevance\n",
    "        return answers[idx]\n",
    "    else:\n",
    "        return \"Sorry, I don't know the answer to that.\"\n",
    "\n",
    "# --- Chatbot Loop ---\n",
    "print(\"🤖 FAQ Chatbot is ready! (type 'bye' to exit)\")\n",
    "while True:\n",
    "    user_input = input(\"You: \").lower()\n",
    "    response = chatbot_response(user_input)\n",
    "    print(\"Bot:\", response)\n",
    "    if user_input == \"bye\":\n",
    "        break\n"
   ]
  },
  {
   "cell_type": "code",
   "execution_count": null,
   "id": "e2499cf3-4092-45f0-a71b-b38e61a4c4f4",
   "metadata": {},
   "outputs": [],
   "source": []
  }
 ],
 "metadata": {
  "kernelspec": {
   "display_name": "Python 3 (ipykernel)",
   "language": "python",
   "name": "python3"
  },
  "language_info": {
   "codemirror_mode": {
    "name": "ipython",
    "version": 3
   },
   "file_extension": ".py",
   "mimetype": "text/x-python",
   "name": "python",
   "nbconvert_exporter": "python",
   "pygments_lexer": "ipython3",
   "version": "3.13.5"
  }
 },
 "nbformat": 4,
 "nbformat_minor": 5
}
